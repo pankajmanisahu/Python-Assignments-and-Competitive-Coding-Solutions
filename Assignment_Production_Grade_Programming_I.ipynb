{
  "nbformat": 4,
  "nbformat_minor": 0,
  "metadata": {
    "kernelspec": {
      "display_name": "Python 3",
      "language": "python",
      "name": "python3"
    },
    "language_info": {
      "codemirror_mode": {
        "name": "ipython",
        "version": 3
      },
      "file_extension": ".py",
      "mimetype": "text/x-python",
      "name": "python",
      "nbconvert_exporter": "python",
      "pygments_lexer": "ipython3",
      "version": "3.7.4"
    },
    "colab": {
      "provenance": [],
      "include_colab_link": true
    }
  },
  "cells": [
    {
      "cell_type": "markdown",
      "metadata": {
        "id": "view-in-github",
        "colab_type": "text"
      },
      "source": [
        "<a href=\"https://colab.research.google.com/github/pankajmanisahu/Python-Assignments-and-Competitive-Coding-Solutions/blob/main/Assignment_Production_Grade_Programming_I.ipynb\" target=\"_parent\"><img src=\"https://colab.research.google.com/assets/colab-badge.svg\" alt=\"Open In Colab\"/></a>"
      ]
    },
    {
      "cell_type": "markdown",
      "metadata": {
        "id": "77zLnpaNvNSp"
      },
      "source": [
        "# <u> Problem 1</u>\n",
        "\n",
        "### Create a class <code>Cylinder</code> which takes two attributes <code>radius</code> and <code>height</code>.\n",
        "\n",
        "### Create the following methods in this class:\n",
        "\n",
        "* ### method <code>volume()</code> which calculates the volume of the cyinder which is defined as $V  = \\pi r^2 h$\n",
        "\n",
        "* ### method <code>surface_area()</code> which calculates the area of the cyinder which is defined as $S  = 2\\pi r h$. Assume this is an open cylinder\n"
      ]
    },
    {
      "cell_type": "code",
      "metadata": {
        "id": "-cWkCZ5OzX0G",
        "colab": {
          "base_uri": "https://localhost:8080/"
        },
        "outputId": "bc726a35-afc3-4b49-e056-f6198fb8c01b"
      },
      "source": [
        "class Cylinder:\n",
        "    def __init__(self, radius, height):\n",
        "        self.radius = radius\n",
        "        self.height = height\n",
        "\n",
        "    def volume(self):\n",
        "        pi = 3.14\n",
        "        return pi * self.radius ** 2 * self.height\n",
        "\n",
        "    def surface_area(self):\n",
        "        pi = 3.14\n",
        "        return 2 * pi * self.radius * self.height\n",
        "\n",
        "# Test the class with sample inputs\n",
        "cylinder = Cylinder(radius=3, height=5)\n",
        "print(\"Volume of the cylinder:\", cylinder.volume())\n",
        "print(\"Surface area of the cylinder:\", cylinder.surface_area())\n",
        "\n",
        "\n",
        "\n"
      ],
      "execution_count": 1,
      "outputs": [
        {
          "output_type": "stream",
          "name": "stdout",
          "text": [
            "Volume of the cylinder: 141.3\n",
            "Surface area of the cylinder: 94.2\n"
          ]
        }
      ]
    },
    {
      "cell_type": "markdown",
      "metadata": {
        "id": "KjPWYK0Rs8By"
      },
      "source": [
        "## <u>Problem 2</u>\n",
        "\n",
        "### You started your own money wallet where your customers can create their accounts and they can either deposit or withdraw money from this wallet.\n",
        "\n",
        "### Write a Python class <code>BankAccount</code> which takes the balance as an attribute. You can initialize the balance with 0 because any new account will have 0 rupees in their wallet. Next write two methods for your class :\n",
        "\n",
        "* #### <code>withdraw()</code> method which takes the amount to be withdrawn as an argument and returns the balance after the withdrawal\n",
        "\n",
        "* #### <code>deposit()</code> method which takes the amount to be deposited as an argument and returns the balance after the deposit.\n",
        "\n",
        "### Keep in mind that if the balance to be withdrawn exceeds the current balance, it should display a message that \"Not enough balance in your account\"\n"
      ]
    },
    {
      "cell_type": "code",
      "metadata": {
        "id": "RxVZTrenzfHC",
        "colab": {
          "base_uri": "https://localhost:8080/"
        },
        "outputId": "52a2c787-5edd-404e-db1f-e0f6905df795"
      },
      "source": [
        "class BankAccount:\n",
        "    def __init__(self, balance=0):\n",
        "        self.balance = balance\n",
        "\n",
        "    def withdraw(self, amount):\n",
        "        if self.balance >= amount:\n",
        "            self.balance -= amount\n",
        "            return self.balance\n",
        "        else:\n",
        "            return \"Not enough balance in your account\"\n",
        "\n",
        "    def deposit(self, amount):\n",
        "        self.balance += amount\n",
        "        return self.balance\n",
        "\n",
        "# Create two instances of the BankAccount class for two customers\n",
        "customer1 = BankAccount()\n",
        "customer2 = BankAccount()\n",
        "\n",
        "# Deposit some amount and withdraw some amount from both accounts\n",
        "customer1.deposit(1000)\n",
        "print(\"Customer 1 balance after deposit:\", customer1.balance)\n",
        "print(\"Customer 1 balance after withdrawal:\", customer1.withdraw(500))\n",
        "\n",
        "customer2.deposit(2000)\n",
        "print(\"Customer 2 balance after deposit:\", customer2.balance)\n",
        "print(\"Customer 2 balance after withdrawal:\", customer2.withdraw(3000))\n",
        "\n",
        "\n",
        "\n"
      ],
      "execution_count": 2,
      "outputs": [
        {
          "output_type": "stream",
          "name": "stdout",
          "text": [
            "Customer 1 balance after deposit: 1000\n",
            "Customer 1 balance after withdrawal: 500\n",
            "Customer 2 balance after deposit: 2000\n",
            "Customer 2 balance after withdrawal: Not enough balance in your account\n"
          ]
        }
      ]
    },
    {
      "cell_type": "markdown",
      "metadata": {
        "id": "5qd8g8UUs8CM"
      },
      "source": [
        "## <u>Problem 3 </u>\n",
        "\n",
        "### Create a class <code>Time </code> which takes two inputs hours and minutes to instantiate.\n",
        "*  #### Construct a method <code>DisplayTime()</code> which displays the time in AM/PM formats. For example if the input is 14 hours and 45 mins, then this method will print \"The time is 2:45 PM\". If the inputted hours exceeds 23 then print the message \"The input hours should be less than 24\" and if the inputted minutes exceeds 59 then print the message \"The input minutes should be less than 60.\" Also if the input is 12 hours 30 minutes, then the displayed time would be 12:30 PM\n",
        "* #### Construct a method <code>DisplayRatio()</code> which should display the ratio of minutes to hours. For example, (8 hours and  16 mins) should display 2. Use <code>try</code>, <code>except</code> block to account for ZeroDivisionError."
      ]
    },
    {
      "cell_type": "code",
      "metadata": {
        "id": "FBJy9Sq_s8CN",
        "colab": {
          "base_uri": "https://localhost:8080/"
        },
        "outputId": "a4b729f9-8813-42fc-d786-2f3550d7a3c2"
      },
      "source": [
        "class Time:\n",
        "    def __init__(self, hours, minutes):\n",
        "        self.hours = hours\n",
        "        self.minutes = minutes\n",
        "\n",
        "    def DisplayTime(self):\n",
        "        if self.hours > 23:\n",
        "            print(\"The input hours should be less than 24\")\n",
        "            return\n",
        "        if self.minutes > 59:\n",
        "            print(\"The input minutes should be less than 60\")\n",
        "            return\n",
        "\n",
        "        am_pm = \"AM\"\n",
        "        display_hours = self.hours\n",
        "        if self.hours > 12:\n",
        "            display_hours -= 12\n",
        "            am_pm = \"PM\"\n",
        "        elif self.hours == 0:\n",
        "            display_hours = 12\n",
        "\n",
        "        print(f\"The time is {display_hours}:{self.minutes:02d} {am_pm}\")\n",
        "\n",
        "    def DisplayRatio(self):\n",
        "        try:\n",
        "            ratio = self.minutes / self.hours\n",
        "            print(\"The ratio of minutes to hours is:\", ratio)\n",
        "        except ZeroDivisionError:\n",
        "            print(\"Cannot calculate ratio: Division by zero\")\n",
        "\n",
        "# Check for sample inputs of hours and mins\n",
        "hour_min_list = [(23,45), (34,50), (12,34), (14,67), (19,20), (2,15), (0, 10)]\n",
        "\n",
        "# Display the corresponding 12-hour time format and ratios for the above hour_min_list\n",
        "for hour, minute in hour_min_list:\n",
        "    time_obj = Time(hour, minute)\n",
        "    time_obj.DisplayTime()\n",
        "    time_obj.DisplayRatio()\n",
        "    print()\n",
        "\n",
        "\n"
      ],
      "execution_count": 3,
      "outputs": [
        {
          "output_type": "stream",
          "name": "stdout",
          "text": [
            "The time is 11:45 PM\n",
            "The ratio of minutes to hours is: 1.9565217391304348\n",
            "\n",
            "The input hours should be less than 24\n",
            "The ratio of minutes to hours is: 1.4705882352941178\n",
            "\n",
            "The time is 12:34 AM\n",
            "The ratio of minutes to hours is: 2.8333333333333335\n",
            "\n",
            "The input minutes should be less than 60\n",
            "The ratio of minutes to hours is: 4.785714285714286\n",
            "\n",
            "The time is 7:20 PM\n",
            "The ratio of minutes to hours is: 1.0526315789473684\n",
            "\n",
            "The time is 2:15 AM\n",
            "The ratio of minutes to hours is: 7.5\n",
            "\n",
            "The time is 12:10 AM\n",
            "Cannot calculate ratio: Division by zero\n",
            "\n"
          ]
        }
      ]
    }
  ]
}